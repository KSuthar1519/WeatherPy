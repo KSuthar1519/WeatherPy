{
 "cells": [
  {
   "cell_type": "markdown",
   "metadata": {},
   "source": [
    "# Deliverable 3. Create a Travel Itinerary Map.\n",
    "----\n",
    "1. Import the vacation CSV file. \n",
    "2. From the map above with pick 4 cities that are in close proximity (on the same continent) that the customer would travel to and create a directions layer map.\n",
    "3. For the \"travel_mode\" use either \"DRIVING\", \"BICYCLING\", or \"WALKING\".\n",
    "4. Take a screenshot of the route and save it. \n",
    "5. Then create a marker layer for the four cities. Each city will should have a pop-up marker that contains\n",
    "    - The hotel name\n",
    "    - The city\n",
    "    - The country\n",
    "    - The current weather description and the maximum temperature\n",
    "---"
   ]
  },
  {
   "cell_type": "markdown",
   "metadata": {},
   "source": [
    "## Make sure the initial dependencies and the Google API key are imported."
   ]
  },
  {
   "cell_type": "code",
   "execution_count": 1,
   "metadata": {},
   "outputs": [],
   "source": [
    "# Dependencies and Setup\n",
    "import pandas as pd\n",
    "import requests\n",
    "import gmaps\n",
    "\n",
    "# Import API key\n",
    "from config import g_key"
   ]
  },
  {
   "cell_type": "code",
   "execution_count": 2,
   "metadata": {},
   "outputs": [],
   "source": [
    "# Configure gmaps\n",
    "gmaps.configure(api_key=g_key)"
   ]
  },
  {
   "cell_type": "markdown",
   "metadata": {},
   "source": [
    "## From your `Vacation_Search` folder from Deliverable 2, import the `WeatherPy_vacation.csv` file as a DataFrame named `vacation_df`"
   ]
  },
  {
   "cell_type": "code",
   "execution_count": 3,
   "metadata": {},
   "outputs": [
    {
     "data": {
      "text/html": [
       "<div>\n",
       "<style scoped>\n",
       "    .dataframe tbody tr th:only-of-type {\n",
       "        vertical-align: middle;\n",
       "    }\n",
       "\n",
       "    .dataframe tbody tr th {\n",
       "        vertical-align: top;\n",
       "    }\n",
       "\n",
       "    .dataframe thead th {\n",
       "        text-align: right;\n",
       "    }\n",
       "</style>\n",
       "<table border=\"1\" class=\"dataframe\">\n",
       "  <thead>\n",
       "    <tr style=\"text-align: right;\">\n",
       "      <th></th>\n",
       "      <th>City_ID</th>\n",
       "      <th>City</th>\n",
       "      <th>Country</th>\n",
       "      <th>Date</th>\n",
       "      <th>Lat</th>\n",
       "      <th>Lng</th>\n",
       "      <th>Max Temp</th>\n",
       "      <th>Humidity</th>\n",
       "      <th>Cloudiness</th>\n",
       "      <th>Wind Speed</th>\n",
       "      <th>Hotel Name</th>\n",
       "    </tr>\n",
       "  </thead>\n",
       "  <tbody>\n",
       "    <tr>\n",
       "      <th>0</th>\n",
       "      <td>0</td>\n",
       "      <td>Sabang</td>\n",
       "      <td>ID</td>\n",
       "      <td>2022-11-20 17:04:58</td>\n",
       "      <td>5.8933</td>\n",
       "      <td>95.3214</td>\n",
       "      <td>81.63</td>\n",
       "      <td>78</td>\n",
       "      <td>100</td>\n",
       "      <td>17.81</td>\n",
       "      <td>Hotel Citra</td>\n",
       "    </tr>\n",
       "    <tr>\n",
       "      <th>1</th>\n",
       "      <td>4</td>\n",
       "      <td>San Vicente De Canete</td>\n",
       "      <td>PE</td>\n",
       "      <td>2022-11-20 17:05:00</td>\n",
       "      <td>-13.0751</td>\n",
       "      <td>-76.3835</td>\n",
       "      <td>70.68</td>\n",
       "      <td>69</td>\n",
       "      <td>66</td>\n",
       "      <td>8.68</td>\n",
       "      <td>Hotel Konford</td>\n",
       "    </tr>\n",
       "    <tr>\n",
       "      <th>2</th>\n",
       "      <td>8</td>\n",
       "      <td>Rikitea</td>\n",
       "      <td>PF</td>\n",
       "      <td>2022-11-20 17:05:02</td>\n",
       "      <td>-23.1203</td>\n",
       "      <td>-134.9692</td>\n",
       "      <td>71.44</td>\n",
       "      <td>74</td>\n",
       "      <td>93</td>\n",
       "      <td>11.07</td>\n",
       "      <td>People ThankYou</td>\n",
       "    </tr>\n",
       "    <tr>\n",
       "      <th>3</th>\n",
       "      <td>9</td>\n",
       "      <td>Kavaratti</td>\n",
       "      <td>IN</td>\n",
       "      <td>2022-11-20 17:05:02</td>\n",
       "      <td>10.5669</td>\n",
       "      <td>72.6420</td>\n",
       "      <td>80.65</td>\n",
       "      <td>58</td>\n",
       "      <td>10</td>\n",
       "      <td>3.15</td>\n",
       "      <td>Green leaf</td>\n",
       "    </tr>\n",
       "    <tr>\n",
       "      <th>4</th>\n",
       "      <td>10</td>\n",
       "      <td>Kapaa</td>\n",
       "      <td>US</td>\n",
       "      <td>2022-11-20 17:01:04</td>\n",
       "      <td>22.0752</td>\n",
       "      <td>-159.3190</td>\n",
       "      <td>74.12</td>\n",
       "      <td>90</td>\n",
       "      <td>18</td>\n",
       "      <td>3.00</td>\n",
       "      <td>Sheraton Kauai Coconut Beach Resort</td>\n",
       "    </tr>\n",
       "    <tr>\n",
       "      <th>...</th>\n",
       "      <td>...</td>\n",
       "      <td>...</td>\n",
       "      <td>...</td>\n",
       "      <td>...</td>\n",
       "      <td>...</td>\n",
       "      <td>...</td>\n",
       "      <td>...</td>\n",
       "      <td>...</td>\n",
       "      <td>...</td>\n",
       "      <td>...</td>\n",
       "      <td>...</td>\n",
       "    </tr>\n",
       "    <tr>\n",
       "      <th>248</th>\n",
       "      <td>662</td>\n",
       "      <td>Corinto</td>\n",
       "      <td>GR</td>\n",
       "      <td>2022-11-20 17:23:04</td>\n",
       "      <td>37.9407</td>\n",
       "      <td>22.9573</td>\n",
       "      <td>71.89</td>\n",
       "      <td>78</td>\n",
       "      <td>99</td>\n",
       "      <td>4.72</td>\n",
       "      <td>Ephira Hotel</td>\n",
       "    </tr>\n",
       "    <tr>\n",
       "      <th>249</th>\n",
       "      <td>666</td>\n",
       "      <td>Imbituba</td>\n",
       "      <td>BR</td>\n",
       "      <td>2022-11-20 17:23:05</td>\n",
       "      <td>-28.2400</td>\n",
       "      <td>-48.6703</td>\n",
       "      <td>76.66</td>\n",
       "      <td>65</td>\n",
       "      <td>26</td>\n",
       "      <td>21.59</td>\n",
       "      <td>Praia Hotel Imbituba</td>\n",
       "    </tr>\n",
       "    <tr>\n",
       "      <th>250</th>\n",
       "      <td>667</td>\n",
       "      <td>Ibra</td>\n",
       "      <td>OM</td>\n",
       "      <td>2022-11-20 17:23:06</td>\n",
       "      <td>22.6906</td>\n",
       "      <td>58.5334</td>\n",
       "      <td>72.90</td>\n",
       "      <td>46</td>\n",
       "      <td>0</td>\n",
       "      <td>4.00</td>\n",
       "      <td>مزرعة راحة النفوس المنزفة</td>\n",
       "    </tr>\n",
       "    <tr>\n",
       "      <th>251</th>\n",
       "      <td>669</td>\n",
       "      <td>Hit</td>\n",
       "      <td>IQ</td>\n",
       "      <td>2022-11-20 17:22:30</td>\n",
       "      <td>33.6416</td>\n",
       "      <td>42.8251</td>\n",
       "      <td>65.86</td>\n",
       "      <td>48</td>\n",
       "      <td>0</td>\n",
       "      <td>10.42</td>\n",
       "      <td>المعلق حسان رزاق</td>\n",
       "    </tr>\n",
       "    <tr>\n",
       "      <th>252</th>\n",
       "      <td>673</td>\n",
       "      <td>Sulangan</td>\n",
       "      <td>PH</td>\n",
       "      <td>2022-11-20 17:23:07</td>\n",
       "      <td>11.1373</td>\n",
       "      <td>123.7228</td>\n",
       "      <td>82.09</td>\n",
       "      <td>78</td>\n",
       "      <td>70</td>\n",
       "      <td>7.29</td>\n",
       "      <td>Maia's Beach Resort</td>\n",
       "    </tr>\n",
       "  </tbody>\n",
       "</table>\n",
       "<p>253 rows × 11 columns</p>\n",
       "</div>"
      ],
      "text/plain": [
       "     City_ID                   City Country                 Date      Lat  \\\n",
       "0          0                 Sabang      ID  2022-11-20 17:04:58   5.8933   \n",
       "1          4  San Vicente De Canete      PE  2022-11-20 17:05:00 -13.0751   \n",
       "2          8                Rikitea      PF  2022-11-20 17:05:02 -23.1203   \n",
       "3          9              Kavaratti      IN  2022-11-20 17:05:02  10.5669   \n",
       "4         10                  Kapaa      US  2022-11-20 17:01:04  22.0752   \n",
       "..       ...                    ...     ...                  ...      ...   \n",
       "248      662                Corinto      GR  2022-11-20 17:23:04  37.9407   \n",
       "249      666               Imbituba      BR  2022-11-20 17:23:05 -28.2400   \n",
       "250      667                   Ibra      OM  2022-11-20 17:23:06  22.6906   \n",
       "251      669                    Hit      IQ  2022-11-20 17:22:30  33.6416   \n",
       "252      673               Sulangan      PH  2022-11-20 17:23:07  11.1373   \n",
       "\n",
       "          Lng  Max Temp  Humidity  Cloudiness  Wind Speed  \\\n",
       "0     95.3214     81.63        78         100       17.81   \n",
       "1    -76.3835     70.68        69          66        8.68   \n",
       "2   -134.9692     71.44        74          93       11.07   \n",
       "3     72.6420     80.65        58          10        3.15   \n",
       "4   -159.3190     74.12        90          18        3.00   \n",
       "..        ...       ...       ...         ...         ...   \n",
       "248   22.9573     71.89        78          99        4.72   \n",
       "249  -48.6703     76.66        65          26       21.59   \n",
       "250   58.5334     72.90        46           0        4.00   \n",
       "251   42.8251     65.86        48           0       10.42   \n",
       "252  123.7228     82.09        78          70        7.29   \n",
       "\n",
       "                              Hotel Name  \n",
       "0                            Hotel Citra  \n",
       "1                          Hotel Konford  \n",
       "2                        People ThankYou  \n",
       "3                             Green leaf  \n",
       "4    Sheraton Kauai Coconut Beach Resort  \n",
       "..                                   ...  \n",
       "248                         Ephira Hotel  \n",
       "249                 Praia Hotel Imbituba  \n",
       "250            مزرعة راحة النفوس المنزفة  \n",
       "251                     المعلق حسان رزاق  \n",
       "252                  Maia's Beach Resort  \n",
       "\n",
       "[253 rows x 11 columns]"
      ]
     },
     "execution_count": 3,
     "metadata": {},
     "output_type": "execute_result"
    }
   ],
   "source": [
    "# Read the WeatherPy_vacation.csv into a DataFrame\n",
    "vacation_df = pd.read_csv(\"C:/Users/prana/OneDrive/Desktop/Weather_Database/Vacation_Search/WeatherPy_Vacation.csv\")\n",
    "\n",
    "# Display sample data\n",
    "vacation_df"
   ]
  },
  {
   "cell_type": "markdown",
   "metadata": {},
   "source": [
    "**Note:** If the resulting DataFrame is empty, uncomment the following code to load sample data into the `clean_hotel_df`."
   ]
  },
  {
   "cell_type": "code",
   "execution_count": null,
   "metadata": {},
   "outputs": [],
   "source": [
    "# In case of an empty DataFrame, load the sample data provided\n",
    "# clean_hotel_df = pd.read_csv(\"WeatherPy_vacation-backup.csv\")\n",
    "# clean_hotel_df.head(10)"
   ]
  },
  {
   "cell_type": "markdown",
   "metadata": {
    "tags": []
   },
   "source": [
    "## In this step, you will set-up the pop-up markers. Review the code to create a marker layer map of the vacation search results. This code is the same as in Deliverable 2."
   ]
  },
  {
   "cell_type": "code",
   "execution_count": 5,
   "metadata": {},
   "outputs": [],
   "source": [
    "# Review the formatting template\n",
    "info_box_template = \"\"\"\n",
    "\n",
    "Hotel Name\n",
    "    {Hotel Name}\n",
    "City Name\n",
    "    {City}\n",
    "Country\n",
    "    {Country}\n",
    "Maximum temperature\n",
    "    {Max Temp}\n",
    "Cloudiness\n",
    "    {Cloudiness}\n",
    "\"\"\"\n",
    "\n",
    "# Get the data from each row and add it to the formatting template and store the data in a list\n",
    "hotel_info = [info_box_template.format(**row) for index, row in vacation_df.iterrows()]\n",
    "\n",
    "# Get the latitude and longitude from each row and store in a new DataFrame.\n",
    "locations = vacation_df[[\"Lat\", \"Lng\"]]"
   ]
  },
  {
   "cell_type": "code",
   "execution_count": 6,
   "metadata": {},
   "outputs": [
    {
     "data": {
      "application/vnd.jupyter.widget-view+json": {
       "model_id": "006f139da1404240a8e0108efb0638f7",
       "version_major": 2,
       "version_minor": 0
      },
      "text/plain": [
       "Figure(layout=FigureLayout(height='420px'))"
      ]
     },
     "metadata": {},
     "output_type": "display_data"
    }
   ],
   "source": [
    "# Add a marker layer for each city to the map.\n",
    "marker_layer = gmaps.marker_layer(locations, info_box_content=hotel_info)\n",
    "fig = gmaps.figure()\n",
    "fig.add_layer(marker_layer)\n",
    "\n",
    "# Display the figure\n",
    "fig"
   ]
  },
  {
   "cell_type": "markdown",
   "metadata": {},
   "source": [
    "## From the vacation search map, *choose four cities* that a customer might want to visit. They should be close together and in the same country."
   ]
  },
  {
   "cell_type": "code",
   "execution_count": 7,
   "metadata": {},
   "outputs": [],
   "source": [
    "# Create DataFrames for each city by filtering the 'vacation_df' using the loc method. \n",
    "# The starting and ending city should be the same city.\n",
    "vacation_start = vacation_df.loc[vacation_df[\"City\"]==\"Lompoc\"]\n",
    "vacation_end = vacation_df.loc[vacation_df[\"City\"]==\"Lompoc\"]\n",
    "vacation_stop1 = vacation_df.loc[vacation_df[\"City\"]==\"Chino\"]\n",
    "vacation_stop2 = vacation_df.loc[vacation_df[\"City\"]==\"Ures\"]\n",
    "vacation_stop3 = vacation_df.loc[vacation_df[\"City\"]==\"San Quintin\"]"
   ]
  },
  {
   "cell_type": "markdown",
   "metadata": {},
   "source": [
    "## Use the `to_numpy()` function and list indexing to write code to retrieve the latitude-longitude pairs as tuples from each city DataFrame."
   ]
  },
  {
   "cell_type": "code",
   "execution_count": 9,
   "metadata": {},
   "outputs": [],
   "source": [
    "# Get the latitude-longitude pairs as tuples from each city DataFrame using the to_numpy function and list indexing.\n",
    "start = tuple(map(tuple,(vacation_start[['Lat','Lng']].to_numpy())))[0]\n",
    "end = tuple(map(tuple,(vacation_end[['Lat','Lng']].to_numpy())))[0]\n",
    "stop1 = tuple(map(tuple,(vacation_stop1[['Lat','Lng']].to_numpy())))[0]\n",
    "stop2 = tuple(map(tuple,(vacation_stop2[['Lat','Lng']].to_numpy())))[0]\n",
    "stop3 = tuple(map(tuple,(vacation_stop3[['Lat','Lng']].to_numpy())))[0]"
   ]
  },
  {
   "cell_type": "markdown",
   "metadata": {},
   "source": [
    "## Use the [gmaps documentation](https://jupyter-gmaps.readthedocs.io/en/latest/tutorial.html#directions-layer) to create a directions layer map using the variables from the previous step. Where the starting and ending city are the same city, the `waypoints` are the three other cities, and the `travel_mode` is either `\"DRIVING\"`, `\"BICYCLING\"`, or `\"WALKING\"`."
   ]
  },
  {
   "cell_type": "code",
   "execution_count": 10,
   "metadata": {
    "tags": []
   },
   "outputs": [
    {
     "data": {
      "application/vnd.jupyter.widget-view+json": {
       "model_id": "29cb9bbb38bc443687d60dea328e024d",
       "version_major": 2,
       "version_minor": 0
      },
      "text/plain": [
       "Figure(layout=FigureLayout(height='420px'))"
      ]
     },
     "metadata": {},
     "output_type": "display_data"
    }
   ],
   "source": [
    "# Define a new figure object\n",
    "import gmaps.datasets\n",
    "fig = gmaps.figure()\n",
    "\n",
    "# Create a direction layer map using the start and end latitude-longitude pairs, and stop1, stop2, and stop3 as the waypoints.\n",
    "# The travel_mode should be \"DRIVING\", \"BICYCLING\", or \"WALKING\".\n",
    "vacation_itinerary = gmaps.directions_layer(start,end,waypoints=[stop1, stop2, stop3], travel_mode='DRIVING')\n",
    "\n",
    "# Add the layer to the map\n",
    "fig.add_layer(vacation_itinerary)\n",
    "\n",
    "# Display the map\n",
    "fig"
   ]
  },
  {
   "cell_type": "markdown",
   "metadata": {},
   "source": [
    "## Use the provided `concat()` function code snippet to combine the four separate city DataFrames into one DataFrame."
   ]
  },
  {
   "cell_type": "code",
   "execution_count": 11,
   "metadata": {},
   "outputs": [
    {
     "data": {
      "text/html": [
       "<div>\n",
       "<style scoped>\n",
       "    .dataframe tbody tr th:only-of-type {\n",
       "        vertical-align: middle;\n",
       "    }\n",
       "\n",
       "    .dataframe tbody tr th {\n",
       "        vertical-align: top;\n",
       "    }\n",
       "\n",
       "    .dataframe thead th {\n",
       "        text-align: right;\n",
       "    }\n",
       "</style>\n",
       "<table border=\"1\" class=\"dataframe\">\n",
       "  <thead>\n",
       "    <tr style=\"text-align: right;\">\n",
       "      <th></th>\n",
       "      <th>City_ID</th>\n",
       "      <th>City</th>\n",
       "      <th>Country</th>\n",
       "      <th>Date</th>\n",
       "      <th>Lat</th>\n",
       "      <th>Lng</th>\n",
       "      <th>Max Temp</th>\n",
       "      <th>Humidity</th>\n",
       "      <th>Cloudiness</th>\n",
       "      <th>Wind Speed</th>\n",
       "      <th>Hotel Name</th>\n",
       "    </tr>\n",
       "  </thead>\n",
       "  <tbody>\n",
       "    <tr>\n",
       "      <th>0</th>\n",
       "      <td>143</td>\n",
       "      <td>Lompoc</td>\n",
       "      <td>US</td>\n",
       "      <td>2022-11-20 17:08:58</td>\n",
       "      <td>34.6391</td>\n",
       "      <td>-120.4579</td>\n",
       "      <td>66.78</td>\n",
       "      <td>34</td>\n",
       "      <td>0</td>\n",
       "      <td>11.50</td>\n",
       "      <td>Holiday Inn Express Lompoc, an IHG Hotel</td>\n",
       "    </tr>\n",
       "    <tr>\n",
       "      <th>1</th>\n",
       "      <td>171</td>\n",
       "      <td>Chino</td>\n",
       "      <td>US</td>\n",
       "      <td>2022-11-20 17:08:09</td>\n",
       "      <td>34.0122</td>\n",
       "      <td>-117.6889</td>\n",
       "      <td>68.81</td>\n",
       "      <td>20</td>\n",
       "      <td>0</td>\n",
       "      <td>9.22</td>\n",
       "      <td>Motel 6 Chino, CA - Los Angeles Area</td>\n",
       "    </tr>\n",
       "    <tr>\n",
       "      <th>2</th>\n",
       "      <td>556</td>\n",
       "      <td>Ures</td>\n",
       "      <td>MX</td>\n",
       "      <td>2022-11-20 17:20:32</td>\n",
       "      <td>29.4333</td>\n",
       "      <td>-110.4000</td>\n",
       "      <td>65.57</td>\n",
       "      <td>31</td>\n",
       "      <td>0</td>\n",
       "      <td>8.66</td>\n",
       "      <td>HOTEL SAHUARO HOUSE</td>\n",
       "    </tr>\n",
       "    <tr>\n",
       "      <th>3</th>\n",
       "      <td>386</td>\n",
       "      <td>San Quintin</td>\n",
       "      <td>MX</td>\n",
       "      <td>2022-11-20 17:15:34</td>\n",
       "      <td>30.4833</td>\n",
       "      <td>-115.9500</td>\n",
       "      <td>66.02</td>\n",
       "      <td>27</td>\n",
       "      <td>0</td>\n",
       "      <td>3.91</td>\n",
       "      <td>Don Eddie's Sport Fishing Center</td>\n",
       "    </tr>\n",
       "  </tbody>\n",
       "</table>\n",
       "</div>"
      ],
      "text/plain": [
       "   City_ID         City Country                 Date      Lat       Lng  \\\n",
       "0      143       Lompoc      US  2022-11-20 17:08:58  34.6391 -120.4579   \n",
       "1      171        Chino      US  2022-11-20 17:08:09  34.0122 -117.6889   \n",
       "2      556         Ures      MX  2022-11-20 17:20:32  29.4333 -110.4000   \n",
       "3      386  San Quintin      MX  2022-11-20 17:15:34  30.4833 -115.9500   \n",
       "\n",
       "   Max Temp  Humidity  Cloudiness  Wind Speed  \\\n",
       "0     66.78        34           0       11.50   \n",
       "1     68.81        20           0        9.22   \n",
       "2     65.57        31           0        8.66   \n",
       "3     66.02        27           0        3.91   \n",
       "\n",
       "                                 Hotel Name  \n",
       "0  Holiday Inn Express Lompoc, an IHG Hotel  \n",
       "1      Motel 6 Chino, CA - Los Angeles Area  \n",
       "2                       HOTEL SAHUARO HOUSE  \n",
       "3          Don Eddie's Sport Fishing Center  "
      ]
     },
     "execution_count": 11,
     "metadata": {},
     "output_type": "execute_result"
    }
   ],
   "source": [
    "#  Combine the four city DataFrames into one DataFrame using the concat() function.\n",
    "itinerary_df = pd.concat(\n",
    "    [\n",
    "        vacation_start,\n",
    "        vacation_stop1,\n",
    "        vacation_stop2,\n",
    "        vacation_stop3\n",
    "    ],\n",
    "    ignore_index = True\n",
    ")\n",
    "\n",
    "# Display sample data\n",
    "itinerary_df"
   ]
  },
  {
   "cell_type": "markdown",
   "metadata": {},
   "source": [
    "## Refactor the code from Step 6 to create a new marker layer map of the cities on the travel route."
   ]
  },
  {
   "cell_type": "code",
   "execution_count": 12,
   "metadata": {},
   "outputs": [],
   "source": [
    "# Review the formatting template\n",
    "info_box_template = \"\"\"\n",
    "\n",
    "Hotel Name\n",
    "    {Hotel Name}\n",
    "City Name\n",
    "    {City}\n",
    "Country\n",
    "    {Country}\n",
    "Maximum temperature\n",
    "    {Max Temp}\n",
    "Cloudiness\n",
    "    {Cloudiness}\n",
    "\"\"\"\n",
    "\n",
    "# Get the data from each row and add it to the formatting template and store the data in a list\n",
    "itinerary_info = [info_box_template.format(**row) for index, row in itinerary_df.iterrows()]\n",
    "\n",
    "# Get the latitude and longitude from each row and store in a new DataFrame.\n",
    "locations = itinerary_df[[\"Lat\",\"Lng\"]]"
   ]
  },
  {
   "cell_type": "code",
   "execution_count": 13,
   "metadata": {},
   "outputs": [
    {
     "data": {
      "application/vnd.jupyter.widget-view+json": {
       "model_id": "6dca13f3c2ed4828a5710fe4e5754148",
       "version_major": 2,
       "version_minor": 0
      },
      "text/plain": [
       "Figure(layout=FigureLayout(height='420px'))"
      ]
     },
     "metadata": {},
     "output_type": "display_data"
    }
   ],
   "source": [
    "# Add a marker layer for each city to the map.\n",
    "marker_layer = gmaps.marker_layer(locations, info_box_content=itinerary_info)\n",
    "\n",
    "# Define a new figure object\n",
    "fig = gmaps.figure(center=(30.0,31.0),zoom_level=1.5)\n",
    "\n",
    "# Add the layer to the map\n",
    "fig.add_layer(marker_layer)\n",
    "\n",
    "# Display the map\n",
    "fig"
   ]
  },
  {
   "cell_type": "code",
   "execution_count": null,
   "metadata": {},
   "outputs": [],
   "source": []
  }
 ],
 "metadata": {
  "kernelspec": {
   "display_name": "Python 3 (ipykernel)",
   "language": "python",
   "name": "python3"
  },
  "language_info": {
   "codemirror_mode": {
    "name": "ipython",
    "version": 3
   },
   "file_extension": ".py",
   "mimetype": "text/x-python",
   "name": "python",
   "nbconvert_exporter": "python",
   "pygments_lexer": "ipython3",
   "version": "3.9.12"
  },
  "latex_envs": {
   "LaTeX_envs_menu_present": true,
   "autoclose": false,
   "autocomplete": true,
   "bibliofile": "biblio.bib",
   "cite_by": "apalike",
   "current_citInitial": 1,
   "eqLabelWithNumbers": true,
   "eqNumInitial": 1,
   "hotkeys": {
    "equation": "Ctrl-E",
    "itemize": "Ctrl-I"
   },
   "labels_anchors": false,
   "latex_user_defs": false,
   "report_style_numbering": false,
   "user_envs_cfg": false
  }
 },
 "nbformat": 4,
 "nbformat_minor": 4
}
